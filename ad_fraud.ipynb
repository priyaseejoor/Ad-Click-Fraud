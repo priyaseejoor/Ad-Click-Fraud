{
 "cells": [
  {
   "cell_type": "code",
   "execution_count": 1,
   "metadata": {},
   "outputs": [],
   "source": [
    "import numpy as np\n",
    "import pandas as pd\n",
    "from matplotlib import pyplot as plt\n",
    "import seaborn as sns\n",
    "from scipy import stats"
   ]
  },
  {
   "cell_type": "code",
   "execution_count": 22,
   "metadata": {},
   "outputs": [],
   "source": [
    "df = pd.read_csv('/Users/priya/Downloads/train_sample_10million.csv', delimiter = ',', header = 0)"
   ]
  },
  {
   "cell_type": "code",
   "execution_count": 23,
   "metadata": {},
   "outputs": [
    {
     "data": {
      "image/png": "[encoded data removed]",
      "text/plain": [
       "<Figure size 288x360 with 1 Axes>"
      ]
     },
     "metadata": {
      "needs_background": "light"
     },
     "output_type": "display_data"
    }
   ],
   "source": [
    "plt.figure(figsize=(4,5))\n",
    "#sns.set(font_scale=1.2)\n",
    "mean = (df.is_attributed.values == 1).mean()\n",
    "ax = sns.barplot(['App Downloaded', 'Not Downloaded'], [mean, 1-mean], color = '#674b49')\n",
    "ax.set(ylabel='Proportion', title='App Downloaded vs Not Downloaded')\n",
    "for p, uniq in zip(ax.patches, [mean, 1-mean]):\n",
    "    height = p.get_height()\n",
    "    ax.text(p.get_x()+p.get_width()/2.,\n",
    "            height+0.01,\n",
    "            '{}%'.format(round(uniq * 100, 2)),\n",
    "            ha=\"center\")"
   ]
  },
  {
   "cell_type": "markdown",
   "metadata": {},
   "source": [
    "Ho: rate of fraud at night = rate of fraud during the day\n",
    "\n",
    "\n",
    "Ha: rate of fraud at night ≠ rate of fraud during the day"
   ]
  },
  {
   "cell_type": "code",
   "execution_count": 3,
   "metadata": {},
   "outputs": [],
   "source": [
    "df = df.loc[df['is_attributed']== 0]"
   ]
  },
  {
   "cell_type": "code",
   "execution_count": 4,
   "metadata": {},
   "outputs": [],
   "source": [
    "df = df.drop(columns=['attributed_time','ip','app','device','os','channel'])"
   ]
  },
  {
   "cell_type": "code",
   "execution_count": 5,
   "metadata": {},
   "outputs": [],
   "source": [
    "df['click_time'] = pd.to_datetime(df['click_time'])\n",
    "df['click_hour']=df['click_time'].dt.hour"
   ]
  },
  {
   "cell_type": "code",
   "execution_count": 6,
   "metadata": {},
   "outputs": [],
   "source": [
    "df['time_of_click'] = df['click_time'].dt.strftime('%H:%M')"
   ]
  },
  {
   "cell_type": "code",
   "execution_count": 7,
   "metadata": {},
   "outputs": [
    {
     "data": {
      "text/html": [
       "<div>\n",
       "<style scoped>\n",
       "    .dataframe tbody tr th:only-of-type {\n",
       "        vertical-align: middle;\n",
       "    }\n",
       "\n",
       "    .dataframe tbody tr th {\n",
       "        vertical-align: top;\n",
       "    }\n",
       "\n",
       "    .dataframe thead th {\n",
       "        text-align: right;\n",
       "    }\n",
       "</style>\n",
       "<table border=\"1\" class=\"dataframe\">\n",
       "  <thead>\n",
       "    <tr style=\"text-align: right;\">\n",
       "      <th></th>\n",
       "      <th>click_time</th>\n",
       "      <th>is_attributed</th>\n",
       "      <th>click_hour</th>\n",
       "      <th>time_of_click</th>\n",
       "    </tr>\n",
       "  </thead>\n",
       "  <tbody>\n",
       "    <tr>\n",
       "      <th>0</th>\n",
       "      <td>2017-11-08 23:43:41</td>\n",
       "      <td>0</td>\n",
       "      <td>23</td>\n",
       "      <td>23:43</td>\n",
       "    </tr>\n",
       "    <tr>\n",
       "      <th>1</th>\n",
       "      <td>2017-11-08 08:01:29</td>\n",
       "      <td>0</td>\n",
       "      <td>8</td>\n",
       "      <td>08:01</td>\n",
       "    </tr>\n",
       "    <tr>\n",
       "      <th>2</th>\n",
       "      <td>2017-11-09 09:49:42</td>\n",
       "      <td>0</td>\n",
       "      <td>9</td>\n",
       "      <td>09:49</td>\n",
       "    </tr>\n",
       "    <tr>\n",
       "      <th>3</th>\n",
       "      <td>2017-11-08 23:43:15</td>\n",
       "      <td>0</td>\n",
       "      <td>23</td>\n",
       "      <td>23:43</td>\n",
       "    </tr>\n",
       "    <tr>\n",
       "      <th>4</th>\n",
       "      <td>2017-11-09 11:15:49</td>\n",
       "      <td>0</td>\n",
       "      <td>11</td>\n",
       "      <td>11:15</td>\n",
       "    </tr>\n",
       "  </tbody>\n",
       "</table>\n",
       "</div>"
      ],
      "text/plain": [
       "           click_time  is_attributed  click_hour time_of_click\n",
       "0 2017-11-08 23:43:41              0          23         23:43\n",
       "1 2017-11-08 08:01:29              0           8         08:01\n",
       "2 2017-11-09 09:49:42              0           9         09:49\n",
       "3 2017-11-08 23:43:15              0          23         23:43\n",
       "4 2017-11-09 11:15:49              0          11         11:15"
      ]
     },
     "execution_count": 7,
     "metadata": {},
     "output_type": "execute_result"
    }
   ],
   "source": [
    "df.head()"
   ]
  },
  {
   "cell_type": "code",
   "execution_count": 8,
   "metadata": {},
   "outputs": [
    {
     "name": "stdout",
     "output_type": "stream",
     "text": [
      "                 click_time  is_attributed  click_hour time_of_click\n",
      "1       2017-11-08 08:01:29              0           8         08:01\n",
      "2       2017-11-09 09:49:42              0           9         09:49\n",
      "4       2017-11-09 11:15:49              0          11         11:15\n",
      "6       2017-11-07 09:11:12              0           9         09:11\n",
      "7       2017-11-09 13:58:04              0          13         13:58\n",
      "...                     ...            ...         ...           ...\n",
      "9999991 2017-11-07 14:30:26              0          14         14:30\n",
      "9999995 2017-11-09 09:10:24              0           9         09:10\n",
      "9999996 2017-11-07 08:17:49              0           8         08:17\n",
      "9999997 2017-11-07 06:09:22              0           6         06:09\n",
      "9999998 2017-11-09 14:50:14              0          14         14:50\n",
      "\n",
      "[5769979 rows x 4 columns]\n"
     ]
    }
   ],
   "source": [
    "mask = (pd.to_timedelta(df['time_of_click'].astype(str).add(':00'))\n",
    "          .between(pd.Timedelta('06:00:00'), pd.Timedelta('18:00:00')))\n",
    "day = df[mask]\n",
    "print (day)"
   ]
  },
  {
   "cell_type": "code",
   "execution_count": 9,
   "metadata": {},
   "outputs": [
    {
     "name": "stdout",
     "output_type": "stream",
     "text": [
      "                 click_time  is_attributed  click_hour time_of_click\n",
      "0       2017-11-08 23:43:41              0          23         23:43\n",
      "3       2017-11-08 23:43:15              0          23         23:43\n",
      "5       2017-11-08 00:42:24              0           0         00:42\n",
      "8       2017-11-06 20:52:40              0          20         20:52\n",
      "9       2017-11-07 01:51:51              0           1         01:51\n",
      "...                     ...            ...         ...           ...\n",
      "9999990 2017-11-08 03:29:43              0           3         03:29\n",
      "9999992 2017-11-09 00:49:28              0           0         00:49\n",
      "9999993 2017-11-07 02:43:47              0           2         02:43\n",
      "9999994 2017-11-07 04:43:52              0           4         04:43\n",
      "9999999 2017-11-07 22:38:28              0          22         22:38\n",
      "\n",
      "[4205212 rows x 4 columns]\n"
     ]
    }
   ],
   "source": [
    "night = df[~mask]\n",
    "print (night)"
   ]
  },
  {
   "cell_type": "code",
   "execution_count": 10,
   "metadata": {},
   "outputs": [
    {
     "data": {
      "image/png": "[encoded data removed]",
      "text/plain": [
       "<Figure size 432x288 with 1 Axes>"
      ]
     },
     "metadata": {
      "needs_background": "light"
     },
     "output_type": "display_data"
    }
   ],
   "source": [
    "day[['click_hour','is_attributed']].groupby(['click_hour'], as_index=True).count().plot(kind='bar', color= '#ffde59')\n",
    "plt.title('Hourly Click Frequency During the Day');\n",
    "plt.ylabel('Number of Clicks');\n",
    "plt.xlabel('Click Hour');\n",
    "plt.savefig('d.png', bbox_inches='tight')"
   ]
  },
  {
   "cell_type": "code",
   "execution_count": 11,
   "metadata": {},
   "outputs": [
    {
     "data": {
      "image/png": "[encoded data removed]",
      "text/plain": [
       "<Figure size 432x288 with 1 Axes>"
      ]
     },
     "metadata": {
      "needs_background": "light"
     },
     "output_type": "display_data"
    }
   ],
   "source": [
    "night[['click_hour','is_attributed']].groupby(['click_hour'], as_index=True).count().plot(kind='bar', color= 'black')\n",
    "plt.title('Hourly Click Frequency During the Night');\n",
    "plt.ylabel('Number of Clicks');\n",
    "plt.xlabel('Click Hour');\n",
    "plt.savefig('n.png', bbox_inches='tight')"
   ]
  },
  {
   "cell_type": "code",
   "execution_count": 12,
   "metadata": {},
   "outputs": [],
   "source": [
    "n_click_count = night.groupby (['click_hour'])['is_attributed'].count()"
   ]
  },
  {
   "cell_type": "code",
   "execution_count": 13,
   "metadata": {},
   "outputs": [],
   "source": [
    "d_click_count = day.groupby (['click_hour'])['is_attributed'].count()"
   ]
  },
  {
   "cell_type": "markdown",
   "metadata": {},
   "source": [
    "Sample Mean of Night Time"
   ]
  },
  {
   "cell_type": "code",
   "execution_count": 14,
   "metadata": {},
   "outputs": [
    {
     "data": {
      "text/plain": [
       "4205212"
      ]
     },
     "execution_count": 14,
     "metadata": {},
     "output_type": "execute_result"
    }
   ],
   "source": [
    "n_click_count.sum()"
   ]
  },
  {
   "cell_type": "code",
   "execution_count": 15,
   "metadata": {},
   "outputs": [
    {
     "data": {
      "text/plain": [
       "(12,)"
      ]
     },
     "execution_count": 15,
     "metadata": {},
     "output_type": "execute_result"
    }
   ],
   "source": [
    "n_click_count.shape"
   ]
  },
  {
   "cell_type": "code",
   "execution_count": 16,
   "metadata": {},
   "outputs": [
    {
     "data": {
      "text/plain": [
       "350434.3333333333"
      ]
     },
     "execution_count": 16,
     "metadata": {},
     "output_type": "execute_result"
    }
   ],
   "source": [
    "n_click_count.mean()"
   ]
  },
  {
   "cell_type": "code",
   "execution_count": 17,
   "metadata": {},
   "outputs": [
    {
     "data": {
      "text/plain": [
       "220021.9788270474"
      ]
     },
     "execution_count": 17,
     "metadata": {},
     "output_type": "execute_result"
    }
   ],
   "source": [
    "n_click_count.std()"
   ]
  },
  {
   "cell_type": "markdown",
   "metadata": {},
   "source": [
    "Sample Mean of Day Time"
   ]
  },
  {
   "cell_type": "code",
   "execution_count": 18,
   "metadata": {},
   "outputs": [
    {
     "data": {
      "text/plain": [
       "443844.53846153844"
      ]
     },
     "execution_count": 18,
     "metadata": {},
     "output_type": "execute_result"
    }
   ],
   "source": [
    "d_click_count.mean()"
   ]
  },
  {
   "cell_type": "code",
   "execution_count": 19,
   "metadata": {},
   "outputs": [
    {
     "data": {
      "text/plain": [
       "161953.74058745673"
      ]
     },
     "execution_count": 19,
     "metadata": {},
     "output_type": "execute_result"
    }
   ],
   "source": [
    "d_click_count.std()"
   ]
  },
  {
   "cell_type": "code",
   "execution_count": 20,
   "metadata": {},
   "outputs": [
    {
     "data": {
      "text/plain": [
       "161953.74058745673"
      ]
     },
     "execution_count": 20,
     "metadata": {},
     "output_type": "execute_result"
    }
   ],
   "source": [
    "np.std(d_click_count, ddof=1)\n"
   ]
  },
  {
   "cell_type": "code",
   "execution_count": 21,
   "metadata": {},
   "outputs": [
    {
     "data": {
      "text/plain": [
       "Ttest_indResult(statistic=1.2007528625973933, pvalue=0.24378158129037303)"
      ]
     },
     "execution_count": 21,
     "metadata": {},
     "output_type": "execute_result"
    }
   ],
   "source": [
    "stats.ttest_ind(d_click_count, n_click_count, equal_var=False)\n"
   ]
  },
  {
   "cell_type": "markdown",
   "metadata": {},
   "source": [
    "The test gives a tstatistic of 1.2 and a pvalue of 0.24, so we FAIL TO REJECT the null hypothesis"
   ]
  },
  {
   "cell_type": "code",
   "execution_count": null,
   "metadata": {},
   "outputs": [],
   "source": []
  }
 ],
 "metadata": {
  "kernelspec": {
   "display_name": "Python 3",
   "language": "python",
   "name": "python3"
  },
  "language_info": {
   "codemirror_mode": {
    "name": "ipython",
    "version": 3
   },
   "file_extension": ".py",
   "mimetype": "text/x-python",
   "name": "python",
   "nbconvert_exporter": "python",
   "pygments_lexer": "ipython3",
   "version": "3.7.7"
  }
 },
 "nbformat": 4,
 "nbformat_minor": 4
}
